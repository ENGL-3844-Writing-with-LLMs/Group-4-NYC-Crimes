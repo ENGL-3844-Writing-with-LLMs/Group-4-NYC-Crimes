{
 "cells": [
  {
   "cell_type": "code",
   "execution_count": null,
   "metadata": {},
   "outputs": [],
   "source": [
    "import pandas as pd\n",
    "from sklearn.model_selection import train_test_split\n",
    "from sklearn.ensemble import RandomForestClassifier\n",
    "from sklearn.metrics import accuracy_score, classification_report, confusion_matrix\n",
    "from sklearn.preprocessing import LabelEncoder\n",
    "from sklearn.metrics import mean_squared_error\n",
    "from statsmodels.tsa.arima.model import ARIMA\n",
    "from math import sqrt\n",
    "import matplotlib.pyplot as plt\n",
    "from prophet import Prophet"
   ]
  },
  {
   "cell_type": "code",
   "execution_count": null,
   "metadata": {},
   "outputs": [],
   "source": [
    "file_path = r'C:\\Users\\B.N.Singh\\Documents\\GitHub\\Group-4-NYC-Crimes\\data\\NYPD_Shooting_Incident_Data__Historic_.csv'\n",
    "ds = pd.read_csv(file_path)"
   ]
  },
  {
   "cell_type": "code",
   "execution_count": 187,
   "metadata": {},
   "outputs": [],
   "source": [
    "ds['date'] = pd.to_datetime(ds['OCCUR_DATE'])\n",
    "ds['year'] = ds['date'].dt.year\n",
    "ds['month'] = ds['date'].dt.month\n",
    "ds['month_str'] = ds['date'].dt.month_name()\n",
    "ds['day'] = ds['date'].dt.day\n",
    "ds['weekdays'] = ds['date'].dt.strftime('%A')  \n",
    "ds['hour'] = ds['OCCUR_TIME'].apply(lambda date : int(date.split(':')[0]))"
   ]
  },
  {
   "cell_type": "code",
   "execution_count": 188,
   "metadata": {},
   "outputs": [
    {
     "name": "stdout",
     "output_type": "stream",
     "text": [
      "Index(['INCIDENT_KEY', 'OCCUR_DATE', 'OCCUR_TIME', 'BORO', 'PRECINCT',\n",
      "       'JURISDICTION_CODE', 'LOCATION_DESC', 'STATISTICAL_MURDER_FLAG',\n",
      "       'PERP_AGE_GROUP', 'PERP_SEX', 'PERP_RACE', 'VIC_AGE_GROUP', 'VIC_SEX',\n",
      "       'VIC_RACE', 'X_COORD_CD', 'Y_COORD_CD', 'Latitude', 'Longitude',\n",
      "       'Lon_Lat', 'date', 'year', 'month', 'month_str', 'day', 'weekdays',\n",
      "       'hour'],\n",
      "      dtype='object')\n"
     ]
    }
   ],
   "source": [
    "print(ds.columns)"
   ]
  },
  {
   "cell_type": "code",
   "execution_count": 189,
   "metadata": {},
   "outputs": [
    {
     "name": "stdout",
     "output_type": "stream",
     "text": [
      "Model Accuracy: 0.7166793602437167\n",
      "Confusion Matrix:\n",
      "[[896 152]\n",
      " [220  45]]\n",
      "Classification Report:\n",
      "              precision    recall  f1-score   support\n",
      "\n",
      "       False       0.80      0.85      0.83      1048\n",
      "        True       0.23      0.17      0.19       265\n",
      "\n",
      "    accuracy                           0.72      1313\n",
      "   macro avg       0.52      0.51      0.51      1313\n",
      "weighted avg       0.69      0.72      0.70      1313\n",
      "\n"
     ]
    }
   ],
   "source": [
    "# Feature selection\n",
    "features = ['VIC_AGE_GROUP', 'PERP_AGE_GROUP', 'VIC_RACE', 'PERP_RACE', 'VIC_SEX', 'PERP_SEX', 'hour', 'LOCATION_DESC', 'BORO']\n",
    "\n",
    "# Handling missing values\n",
    "ds = ds[features + ['STATISTICAL_MURDER_FLAG']].dropna()\n",
    "\n",
    "# Encoding categorical variables\n",
    "label_encoder = LabelEncoder()\n",
    "for column in ['VIC_AGE_GROUP', 'PERP_AGE_GROUP', 'VIC_RACE', 'PERP_RACE', 'VIC_SEX', 'PERP_SEX', 'LOCATION_DESC', 'hour', 'BORO']:\n",
    "    ds[column] = label_encoder.fit_transform(ds[column])\n",
    "\n",
    "# Splitting the dataset\n",
    "X = ds[features]\n",
    "y = ds['STATISTICAL_MURDER_FLAG']\n",
    "X_train, X_test, y_train, y_test = train_test_split(X, y, test_size=0.2, random_state=42)\n",
    "\n",
    "# Initialize and train the model\n",
    "model = RandomForestClassifier()\n",
    "model.fit(X_train, y_train)\n",
    "\n",
    "# Make predictions\n",
    "y_pred = model.predict(X_test)\n",
    "\n",
    "# Evaluate the model\n",
    "accuracy = accuracy_score(y_test, y_pred)\n",
    "conf_matrix = confusion_matrix(y_test, y_pred)\n",
    "classification_rep = classification_report(y_test, y_pred)\n",
    "\n",
    "# Print results\n",
    "print(f\"Model Accuracy: {accuracy}\")\n",
    "print(\"Confusion Matrix:\")\n",
    "print(conf_matrix)\n",
    "print(\"Classification Report:\")\n",
    "print(classification_rep)"
   ]
  },
  {
   "cell_type": "markdown",
   "metadata": {},
   "source": [
    "This model utilizes the victim age group, sex, race, the perpetrator age group, sex, race, hour, location description, and the borough the shooting took place in to predict whether the shooting will be fatal or not. This can be used in hospitals to have an idea of what kind of medical condition their patient might be in before actually seeing the patient. This can allow for doctors to operate quicker and potentially save the victims life if it does predict the shooting to be fatal. "
   ]
  },
  {
   "cell_type": "code",
   "execution_count": 190,
   "metadata": {},
   "outputs": [
    {
     "name": "stdout",
     "output_type": "stream",
     "text": [
      "Model Accuracy: 0.7136329017517137\n",
      "Confusion Matrix:\n",
      "[[898 150]\n",
      " [226  39]]\n",
      "Classification Report:\n",
      "              precision    recall  f1-score   support\n",
      "\n",
      "       False       0.80      0.86      0.83      1048\n",
      "        True       0.21      0.15      0.17       265\n",
      "\n",
      "    accuracy                           0.71      1313\n",
      "   macro avg       0.50      0.50      0.50      1313\n",
      "weighted avg       0.68      0.71      0.69      1313\n",
      "\n"
     ]
    }
   ],
   "source": [
    "# Select relevant features for prediction\n",
    "features = ['BORO', 'LOCATION_DESC', 'VIC_AGE_GROUP', 'PERP_AGE_GROUP', 'VIC_RACE', 'PERP_RACE',\n",
    "            'VIC_SEX', 'PERP_SEX', 'hour']\n",
    "\n",
    "# Check if the additional features are present in the dataset\n",
    "additional_features = ['weekdays', 'JURISDICTION_CODE', 'PRECINCT']\n",
    "for feature in additional_features:\n",
    "    if feature in ds.columns:\n",
    "        features.append(feature)\n",
    "\n",
    "# Fill missing values for selected features\n",
    "ds[features] = ds[features].fillna('Unknown')\n",
    "\n",
    "# Encode categorical features\n",
    "label_encoder = LabelEncoder()\n",
    "for feature in features:\n",
    "    ds[feature] = label_encoder.fit_transform(ds[feature])\n",
    "\n",
    "# Define X (features) and y (target)\n",
    "X = ds[features]\n",
    "y = ds['STATISTICAL_MURDER_FLAG']\n",
    "\n",
    "# Split the data into training and testing sets\n",
    "X_train, X_test, y_train, y_test = train_test_split(X, y, test_size=0.2, random_state=42)\n",
    "\n",
    "# Create a RandomForestClassifier\n",
    "model = RandomForestClassifier(n_estimators=100, random_state=42)\n",
    "\n",
    "# Train the model\n",
    "model.fit(X_train, y_train)\n",
    "\n",
    "# Make predictions on the test set\n",
    "y_pred = model.predict(X_test)\n",
    "\n",
    "# Evaluate the model\n",
    "accuracy = accuracy_score(y_test, y_pred)\n",
    "conf_matrix = confusion_matrix(y_test, y_pred)\n",
    "report = classification_report(y_test, y_pred)\n",
    "\n",
    "print(f\"Model Accuracy: {accuracy}\")\n",
    "print(\"Confusion Matrix:\")\n",
    "print(conf_matrix)\n",
    "print(\"Classification Report:\")\n",
    "print(report)"
   ]
  },
  {
   "cell_type": "markdown",
   "metadata": {},
   "source": [
    "This model predicts using the likelyhood of the shooting being fatal or a murder based on all the parameters in the data set. It is predicting the likely hood of a fatal shooting to occur based on parameters such as hour, location, borough, jurisdiction code, and precinct. This can allow the police to type in hypothetical parameters and deploy their officers accordingly with the highest probablity of fatal shootings based on location and hour. They can use the model to change the hours for each borough and then decide on how many officers need to be at the borough based on the probability of shootings occuring during each hour of the day. The model can also be used to distribute officers across boroughs based on the probability of shootings occuring in each borough. "
   ]
  }
 ],
 "metadata": {
  "kernelspec": {
   "display_name": "Python 3",
   "language": "python",
   "name": "python3"
  },
  "language_info": {
   "codemirror_mode": {
    "name": "ipython",
    "version": 3
   },
   "file_extension": ".py",
   "mimetype": "text/x-python",
   "name": "python",
   "nbconvert_exporter": "python",
   "pygments_lexer": "ipython3",
   "version": "3.9.8"
  }
 },
 "nbformat": 4,
 "nbformat_minor": 2
}

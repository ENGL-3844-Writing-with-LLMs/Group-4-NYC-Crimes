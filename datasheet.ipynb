{
 "cells": [
  {
   "cell_type": "markdown",
   "metadata": {},
   "source": [
    "# NYC Crime Dataset \n",
    "\n",
    "By: Emilee Wright <emileewright@vt.edu> and Prakhar Pandey <prakhar28@vt.edu>\n",
    "\n",
    "**Model Details:**\n",
    "1. Citation/Contact Info: This dataset was collected from Thaddeus Segura on kaggle.com. It was updated three years.\n",
    "2. Purpose Of The Model: We annotated a dataset of documents about the different districts, perpetrator age/sex, and occurance time and date. We call this datset the NYC Crime Dataset. This model was created to help visualize the data and predict future occurances of shootings in NYC. \n",
    "\n",
    "**Motivation:**\n",
    "1. Who Created It: This dataset was created by Thaddeus Segura. \n",
    "2. Why Was It Created: Segura created it \"to dig into crime and policing habits.\"  \n",
    "3. Stakeholders: There are several possibilities for stakeholders in this project. For one, it could be the community in general or the specific communities to which the shooting happens. In could also be the police officers. The data might tell them where a shooting is likely to occur, at what time, and what type of perpetrator they are dealing with.\n",
    "\n",
    "**Composition:**\n",
    "1. Observations/Instances: The dataset consists of information collected from NYC OpenData. While this source has its own bias in itself. The collector of this data (Segura) also has their own biases, rather they realize it or not. This could affect which data was considered when creating this dataset and if everything was labeled correctly. \n",
    "2. Biases Of The Metrics: There could be several types of biases in this dataset, such as selection bias. The author of this dataset could have chosen a select sample that is not representative of the entire population. In addition, response bias plays a role as well. This occurs when respondents provide inaccurage or false information. This could have occured when shootings were reported to NYC OpenData. \n",
    "3. Summary Statistical Overview Of The Data Types: In summary, these datatypes are nominal data, which shows data without inherent order. Nominal data allows us to calculate frequences and proportions, which is what we did in our EDA models. \n",
    "\n",
    "**Collection Process:**\n",
    "1. How Was It Collected? By What Means? The data was collected by NYC OpenData. We accessed the data by downloading it from kaggle.com where it was turned into an Excel sheet and transfered to the notebook. \n",
    "2. Sampling Method: There was no sampling method. \n",
    "3. Timeframe: The data in the dataset covers 2006-2019. \n",
    "\n",
    "**Processing/Labeling:**\n",
    "1. Processing Work: We did not do any processing work. \n",
    "2. OG Data Available: The OG data was saved as a file in our notebook. \n",
    "\n",
    "**Uses:**\n",
    "1. Original Intended Uses: The dataset was originally used by Segura to explore crime and policing habits. \n",
    "2. How Should It Not Be Used: This dataset should not be used to depend on where crime might occur. Crime is various and being solely dependent on the model is not good practice for police officers. \n",
    "\n",
    "**Distribution:**\n",
    "1. How Will It Be Distributed: The dataset will be distributed to Dr. Lindgren as part of the final assignment. \n",
    "2. Licensing/Intellectual Property: This dataset will not be distributed under a copyright or intellectual property license. \n",
    "3. Regulation: Regulation is depndent upon Dr. Lindgren. \n",
    "\n",
    "**Maintenance:** \n",
    "1. Who Will Maintain It? Both authors are maintaining the dataset. \n",
    "2. Handling Errata? There are currently no errors. If errors are encountered in the future, then an author may release another version. \n",
    "3. Contribution Process? If others want to contribute to the dataset, they may send the authors a message to be added as a writer on github. "
   ]
  }
 ],
 "metadata": {
  "language_info": {
   "name": "python"
  }
 },
 "nbformat": 4,
 "nbformat_minor": 2
}

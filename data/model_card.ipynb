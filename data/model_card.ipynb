{
 "cells": [
  {
   "cell_type": "markdown",
   "metadata": {},
   "source": [
    "# NYC Crime Model Card \n",
    "\n",
    "By: Emilee Wright <emileewright@vt.edu> and Prakhar Pandey <prakhar28@vt.edu>"
   ]
  }
 ],
 "metadata": {
  "language_info": {
   "name": "python"
  }
 },
 "nbformat": 4,
 "nbformat_minor": 2
}

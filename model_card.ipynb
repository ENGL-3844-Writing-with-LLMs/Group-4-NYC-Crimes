{
 "cells": [
  {
   "cell_type": "markdown",
   "metadata": {},
   "source": [
    "# NYC Crime Model Card \n",
    "\n",
    "By: Emilee Wright <emileewright@vt.edu> and Prakhar Pandey <prakhar28@vt.edu>\n",
    "\n",
    "**Model Details**\n",
    "1. Citation/Contact Info: Thaddeus Segura, http://www.thaddeus-segura.com/\n",
    "2. Purpose of the Model: Segura states that the purpose of the model is to \"dig into crime and policing habits\" \n",
    "3. Statement About ML Technique(s): None \n",
    "\n",
    "**Intended Use**\n",
    "1. Who/What Cases Considered: This is intended to be used for cases where community members or police officers are looking into where the most crime happens, at what time, and by what kinds of perpetrators. \n",
    "2. Place On Spectrum: Community members or police officers might use this data set 8/10 times when determining what may happen whereas out-of-scope users may use this dataset 2/10 times. \n",
    "\n",
    "**Factors**\n",
    "1. Groups: Those who work for NYC OpenData. \n",
    "2. Instrumentation: Reports \n",
    "3. Environment: Offices of those who work at NYC Open Data. \n",
    "4. Revelant Factors: Factors that are revelant to this dataset and foreseable factors for which model performance may vary is dependant on the person who is analyzing the data and the way they choose to view it. Certain perspectives can lead to different conclusions. \n",
    "5. Evaluation Factors: Evaluation factors such as perpetrator and victim age and sex are being reported. This allows the community to know what the \"typical\" is for a perpetrator or a victim. \n",
    "\n",
    "**Metrics** \n",
    "1. Performance Measures: Accuracy was measured for each model and it was close to 72%. This is a pretty good accuracy score for a basic predictive model. Other than that the other performance measures used were the confusion matrix and the classifications matrix. \n",
    "2. Decision Thresholds: Decision thresholders were not used. \n",
    "3. Classification: The classification systems for this is hard because the crime has to be reported and document. As the example in the text stated, it is not necessaRily a survelliance error. However, one classification system that could be seen is false negative rate. Several shootings occur and no one comes forward, seeks assistance, or dies and is not found. This could lead to numbers being off in the total amount of shootings that occur. \n",
    "\n",
    "**Evaluation Data** \n",
    "1. Data Overview: Datasets that we used to evaluate the model included bar graphs, pie graphs, and line plots. \n",
    "2. Motivation: This dataset was created to show the occurances of shootings that happened in specific areas, the times, and those tied to it. \n",
    "3. Processing Work: This data was processed by Segura by pulling data from NYC OpenData. \n",
    "\n",
    "**Training Data** \n",
    "Noted \"Same as Evaluation Data\" \n",
    "\n",
    "**Quantitative Analysis** \n",
    "1. Overall, we think that the model performed fairly well with respect to each fact and to the intersection of the evaluated factors. The two models were able to achieve an accuracy of almost 72% and this is a very respectable score for something that we just learned to develop this semester. \n",
    "\n",
    "**Ethical Considerations** \n",
    "1. Of course, the people who originally collected the data are human, as so is the one who created this dataset. That being said, there could be ethical dilemmas in which the way data was reported and if data was left out of reporting. It should also be important to consider that this dataset is not to be a case that will predict all shootings that may occur in the future. Another ethical dilemma that mayh arise with such a dataset is that personal data points such as victims race, sex, and age is used in the dataset but it is not clear whether each victim provided permission to use their data. The deceased are not alive to give permission so it is not clear whether the next of kin was asked before using their data.\n"
   ]
  }
 ],
 "metadata": {
  "language_info": {
   "name": "python"
  }
 },
 "nbformat": 4,
 "nbformat_minor": 2
}
